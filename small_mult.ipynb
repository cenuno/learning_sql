{
 "cells": [
  {
   "cell_type": "code",
   "execution_count": 1,
   "metadata": {},
   "outputs": [],
   "source": [
    "# libraries and data\n",
    "import matplotlib.pyplot as plt\n",
    "import numpy as np\n",
    "import pandas as pd"
   ]
  },
  {
   "cell_type": "code",
   "execution_count": 2,
   "metadata": {},
   "outputs": [
    {
     "data": {
      "text/html": [
       "<div>\n",
       "<style scoped>\n",
       "    .dataframe tbody tr th:only-of-type {\n",
       "        vertical-align: middle;\n",
       "    }\n",
       "\n",
       "    .dataframe tbody tr th {\n",
       "        vertical-align: top;\n",
       "    }\n",
       "\n",
       "    .dataframe thead th {\n",
       "        text-align: right;\n",
       "    }\n",
       "</style>\n",
       "<table border=\"1\" class=\"dataframe\">\n",
       "  <thead>\n",
       "    <tr style=\"text-align: right;\">\n",
       "      <th></th>\n",
       "      <th>x</th>\n",
       "      <th>y1</th>\n",
       "      <th>y2</th>\n",
       "      <th>y3</th>\n",
       "      <th>y4</th>\n",
       "      <th>y5</th>\n",
       "      <th>y6</th>\n",
       "      <th>y7</th>\n",
       "      <th>y8</th>\n",
       "      <th>y9</th>\n",
       "    </tr>\n",
       "  </thead>\n",
       "  <tbody>\n",
       "    <tr>\n",
       "      <th>0</th>\n",
       "      <td>1</td>\n",
       "      <td>0.711852</td>\n",
       "      <td>1.306275</td>\n",
       "      <td>10.532560</td>\n",
       "      <td>5.446297</td>\n",
       "      <td>2.925536</td>\n",
       "      <td>1.508060</td>\n",
       "      <td>5.247583</td>\n",
       "      <td>4.027987</td>\n",
       "      <td>4.168313</td>\n",
       "    </tr>\n",
       "    <tr>\n",
       "      <th>1</th>\n",
       "      <td>2</td>\n",
       "      <td>-0.297541</td>\n",
       "      <td>2.129295</td>\n",
       "      <td>10.805098</td>\n",
       "      <td>4.592142</td>\n",
       "      <td>5.641636</td>\n",
       "      <td>3.085705</td>\n",
       "      <td>5.427998</td>\n",
       "      <td>5.302425</td>\n",
       "      <td>6.793474</td>\n",
       "    </tr>\n",
       "    <tr>\n",
       "      <th>2</th>\n",
       "      <td>3</td>\n",
       "      <td>3.173032</td>\n",
       "      <td>1.521043</td>\n",
       "      <td>13.968342</td>\n",
       "      <td>7.593124</td>\n",
       "      <td>5.193267</td>\n",
       "      <td>2.872131</td>\n",
       "      <td>5.995734</td>\n",
       "      <td>5.549218</td>\n",
       "      <td>4.570033</td>\n",
       "    </tr>\n",
       "    <tr>\n",
       "      <th>3</th>\n",
       "      <td>4</td>\n",
       "      <td>-1.047320</td>\n",
       "      <td>5.535996</td>\n",
       "      <td>14.370984</td>\n",
       "      <td>10.683548</td>\n",
       "      <td>7.434262</td>\n",
       "      <td>5.159264</td>\n",
       "      <td>8.808910</td>\n",
       "      <td>7.652379</td>\n",
       "      <td>7.689276</td>\n",
       "    </tr>\n",
       "    <tr>\n",
       "      <th>4</th>\n",
       "      <td>5</td>\n",
       "      <td>-1.552763</td>\n",
       "      <td>5.315372</td>\n",
       "      <td>14.576503</td>\n",
       "      <td>10.959241</td>\n",
       "      <td>7.986322</td>\n",
       "      <td>6.756223</td>\n",
       "      <td>8.532146</td>\n",
       "      <td>9.507785</td>\n",
       "      <td>6.969527</td>\n",
       "    </tr>\n",
       "  </tbody>\n",
       "</table>\n",
       "</div>"
      ],
      "text/plain": [
       "   x        y1        y2         y3         y4        y5        y6        y7  \\\n",
       "0  1  0.711852  1.306275  10.532560   5.446297  2.925536  1.508060  5.247583   \n",
       "1  2 -0.297541  2.129295  10.805098   4.592142  5.641636  3.085705  5.427998   \n",
       "2  3  3.173032  1.521043  13.968342   7.593124  5.193267  2.872131  5.995734   \n",
       "3  4 -1.047320  5.535996  14.370984  10.683548  7.434262  5.159264  8.808910   \n",
       "4  5 -1.552763  5.315372  14.576503  10.959241  7.986322  6.756223  8.532146   \n",
       "\n",
       "         y8        y9  \n",
       "0  4.027987  4.168313  \n",
       "1  5.302425  6.793474  \n",
       "2  5.549218  4.570033  \n",
       "3  7.652379  7.689276  \n",
       "4  9.507785  6.969527  "
      ]
     },
     "execution_count": 2,
     "metadata": {},
     "output_type": "execute_result"
    }
   ],
   "source": [
    "# Make a data frame\n",
    "df = pd.DataFrame({'x': range(1,11), 'y1': np.random.randn(10), 'y2': np.random.randn(10)+range(1,11),\n",
    "                   'y3': np.random.randn(10)+range(11,21), 'y4': np.random.randn(10)+range(6,16), \n",
    "                   'y5': np.random.randn(10)+range(4,14)+(0,0,0,0,0,0,0,-3,-8,-6),\n",
    "                   'y6': np.random.randn(10)+range(2,12), 'y7': np.random.randn(10)+range(5,15),\n",
    "                   'y8': np.random.randn(10)+range(4,14), 'y9': np.random.randn(10)+range(4,14)})\n",
    "df.head()"
   ]
  },
  {
   "cell_type": "code",
   "execution_count": 3,
   "metadata": {},
   "outputs": [],
   "source": [
    "# Initialize the figure\n",
    "plt.style.use('seaborn-darkgrid')\n",
    "\n",
    "# create a color palette\n",
    "palette = plt.get_cmap('Set1')"
   ]
  },
  {
   "cell_type": "code",
   "execution_count": 9,
   "metadata": {},
   "outputs": [],
   "source": [
    "plt.subplots?"
   ]
  },
  {
   "cell_type": "code",
   "execution_count": 8,
   "metadata": {},
   "outputs": [],
   "source": [
    "plt.subplot?"
   ]
  },
  {
   "cell_type": "code",
   "execution_count": 14,
   "metadata": {},
   "outputs": [
    {
     "ename": "AttributeError",
     "evalue": "module 'matplotlib.pyplot' has no attribute 'plt'",
     "output_type": "error",
     "traceback": [
      "\u001b[0;31m---------------------------------------------------------------------------\u001b[0m",
      "\u001b[0;31mAttributeError\u001b[0m                            Traceback (most recent call last)",
      "\u001b[0;32m<ipython-input-14-937b81bc7c60>\u001b[0m in \u001b[0;36m<module>\u001b[0;34m()\u001b[0m\n\u001b[1;32m      1\u001b[0m \u001b[0mfig\u001b[0m\u001b[0;34m,\u001b[0m \u001b[0maxes\u001b[0m \u001b[0;34m=\u001b[0m \u001b[0mplt\u001b[0m\u001b[0;34m.\u001b[0m\u001b[0msubplots\u001b[0m\u001b[0;34m(\u001b[0m\u001b[0mnrows\u001b[0m\u001b[0;34m=\u001b[0m\u001b[0;36m3\u001b[0m\u001b[0;34m,\u001b[0m \u001b[0mncols\u001b[0m\u001b[0;34m=\u001b[0m\u001b[0;36m3\u001b[0m\u001b[0;34m)\u001b[0m\u001b[0;34m\u001b[0m\u001b[0m\n\u001b[0;32m----> 2\u001b[0;31m axes[0, 0] = plt.plt(df[\"x\"], \n\u001b[0m\u001b[1;32m      3\u001b[0m                      \u001b[0mdf\u001b[0m\u001b[0;34m[\u001b[0m\u001b[0;34m\"y1\"\u001b[0m\u001b[0;34m]\u001b[0m\u001b[0;34m,\u001b[0m\u001b[0;34m\u001b[0m\u001b[0m\n\u001b[1;32m      4\u001b[0m                      \u001b[0mmarker\u001b[0m \u001b[0;34m=\u001b[0m \u001b[0;34m\"\"\u001b[0m\u001b[0;34m,\u001b[0m\u001b[0;34m\u001b[0m\u001b[0m\n\u001b[1;32m      5\u001b[0m                      \u001b[0mcolor\u001b[0m\u001b[0;34m=\u001b[0m\u001b[0mpalette\u001b[0m\u001b[0;34m(\u001b[0m\u001b[0;36m0\u001b[0m\u001b[0;34m)\u001b[0m\u001b[0;34m,\u001b[0m\u001b[0;34m\u001b[0m\u001b[0m\n",
      "\u001b[0;31mAttributeError\u001b[0m: module 'matplotlib.pyplot' has no attribute 'plt'"
     ]
    },
    {
     "data": {
      "image/png": "[encoded data removed]",
      "text/plain": [
       "<Figure size 432x288 with 9 Axes>"
      ]
     },
     "metadata": {},
     "output_type": "display_data"
    }
   ],
   "source": [
    "fig, axes = plt.subplots(nrows=3, ncols=3)\n",
    "axes[0, 0] = plt.plt(df[\"x\"], \n",
    "                     df[\"y1\"],\n",
    "                     marker = \"\",\n",
    "                     color=palette(0),\n",
    "                     linewidth=1.9,\n",
    "                     alpha=0.9,\n",
    "                     label=\"y1\")"
   ]
  },
  {
   "cell_type": "code",
   "execution_count": null,
   "metadata": {},
   "outputs": [],
   "source": []
  },
  {
   "cell_type": "code",
   "execution_count": 10,
   "metadata": {},
   "outputs": [
    {
     "data": {
      "text/plain": [
       "array([[<matplotlib.axes._subplots.AxesSubplot object at 0x11bf29048>,\n",
       "        <matplotlib.axes._subplots.AxesSubplot object at 0x11df87be0>,\n",
       "        <matplotlib.axes._subplots.AxesSubplot object at 0x11dfb6550>],\n",
       "       [<matplotlib.axes._subplots.AxesSubplot object at 0x11dfdbeb8>,\n",
       "        <matplotlib.axes._subplots.AxesSubplot object at 0x11e007860>,\n",
       "        <matplotlib.axes._subplots.AxesSubplot object at 0x11e035208>],\n",
       "       [<matplotlib.axes._subplots.AxesSubplot object at 0x11e059b70>,\n",
       "        <matplotlib.axes._subplots.AxesSubplot object at 0x11e0874e0>,\n",
       "        <matplotlib.axes._subplots.AxesSubplot object at 0x11e0ace80>]],\n",
       "      dtype=object)"
      ]
     },
     "execution_count": 10,
     "metadata": {},
     "output_type": "execute_result"
    }
   ],
   "source": [
    "axes"
   ]
  },
  {
   "cell_type": "code",
   "execution_count": 11,
   "metadata": {},
   "outputs": [
    {
     "data": {
      "text/plain": [
       "array([<matplotlib.axes._subplots.AxesSubplot object at 0x11bf29048>,\n",
       "       <matplotlib.axes._subplots.AxesSubplot object at 0x11df87be0>,\n",
       "       <matplotlib.axes._subplots.AxesSubplot object at 0x11dfb6550>,\n",
       "       <matplotlib.axes._subplots.AxesSubplot object at 0x11dfdbeb8>,\n",
       "       <matplotlib.axes._subplots.AxesSubplot object at 0x11e007860>,\n",
       "       <matplotlib.axes._subplots.AxesSubplot object at 0x11e035208>,\n",
       "       <matplotlib.axes._subplots.AxesSubplot object at 0x11e059b70>,\n",
       "       <matplotlib.axes._subplots.AxesSubplot object at 0x11e0874e0>,\n",
       "       <matplotlib.axes._subplots.AxesSubplot object at 0x11e0ace80>],\n",
       "      dtype=object)"
      ]
     },
     "execution_count": 11,
     "metadata": {},
     "output_type": "execute_result"
    }
   ],
   "source": [
    "axes.flatten()"
   ]
  },
  {
   "cell_type": "code",
   "execution_count": 7,
   "metadata": {},
   "outputs": [
    {
     "data": {
      "text/plain": [
       "array([<matplotlib.axes._subplots.AxesSubplot object at 0x11bf29048>,\n",
       "       <matplotlib.axes._subplots.AxesSubplot object at 0x11df87be0>,\n",
       "       <matplotlib.axes._subplots.AxesSubplot object at 0x11dfb6550>,\n",
       "       <matplotlib.axes._subplots.AxesSubplot object at 0x11dfdbeb8>,\n",
       "       <matplotlib.axes._subplots.AxesSubplot object at 0x11e007860>,\n",
       "       <matplotlib.axes._subplots.AxesSubplot object at 0x11e035208>,\n",
       "       <matplotlib.axes._subplots.AxesSubplot object at 0x11e059b70>,\n",
       "       <matplotlib.axes._subplots.AxesSubplot object at 0x11e0874e0>,\n",
       "       <matplotlib.axes._subplots.AxesSubplot object at 0x11e0ace80>],\n",
       "      dtype=object)"
      ]
     },
     "execution_count": 7,
     "metadata": {},
     "output_type": "execute_result"
    }
   ],
   "source": [
    "axes.flatten()"
   ]
  },
  {
   "cell_type": "code",
   "execution_count": null,
   "metadata": {},
   "outputs": [],
   "source": []
  },
  {
   "cell_type": "code",
   "execution_count": null,
   "metadata": {},
   "outputs": [],
   "source": []
  },
  {
   "cell_type": "code",
   "execution_count": null,
   "metadata": {},
   "outputs": [],
   "source": [
    "# multiple line plot\n",
    "num = 0\n",
    "for column in df.drop(subset=\"x\", axis=1):\n",
    "\tnum +=1\n",
    "\n",
    "\t# Find the right spot on the plot\n",
    "\tplt.subplot(3, 3, num)\n",
    "\n",
    "\t# plot every groups, but discreet\n",
    "\tfor v in df.drop('x', axis=1):\n",
    "\t\tplt.plot(df['x'], df[v], marker='', color='grey', linewidth=0.6, alpha=0.3)\n",
    "\n",
    "\t# Plot the lineplot\n",
    "\tplt.plot(df['x'], df[column], marker='', color=palette(num), linewidth=2.4, alpha=0.9, label=column)\n",
    "\n",
    "\t# Same limits for everybody!\n",
    "\tplt.xlim(0,10)\n",
    "\tplt.ylim(-2,22)\n",
    "\n",
    "\t# Not ticks everywhere\n",
    "\tif num in range(7) :\n",
    "\t\tplt.tick_params(labelbottom='off')\n",
    "\tif num not in [1,4,7] :\n",
    "\t\tplt.tick_params(labelleft='off')\n",
    "\n",
    "\t# Add title\n",
    "\tplt.title(column, loc='left', fontsize=12, fontweight=0, color=palette(num) )\n",
    "\n",
    "# general title\n",
    "plt.suptitle(\"How the 9 students improved\\nthese past few days?\", fontsize=13, fontweight=0, color='black', style='italic', y=1.02)\n",
    "\n",
    "# Axis title\n",
    "plt.text(0.5, 0.02, 'Time', ha='center', va='center')\n",
    "plt.text(0.06, 0.5, 'Note', ha='center', va='center', rotation='vertical')"
   ]
  }
 ],
 "metadata": {
  "kernelspec": {
   "display_name": "Python (learn-env)",
   "language": "python",
   "name": "learn-env"
  },
  "language_info": {
   "codemirror_mode": {
    "name": "ipython",
    "version": 3
   },
   "file_extension": ".py",
   "mimetype": "text/x-python",
   "name": "python",
   "nbconvert_exporter": "python",
   "pygments_lexer": "ipython3",
   "version": "3.6.6"
  }
 },
 "nbformat": 4,
 "nbformat_minor": 2
}
