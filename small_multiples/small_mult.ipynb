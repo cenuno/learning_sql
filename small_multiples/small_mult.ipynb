{
 "cells": [
  {
   "cell_type": "markdown",
   "metadata": {},
   "source": [
    "# Small Multiples\n",
    "----\n",
    "\n",
    "Created by Cristian E. Nuno\n",
    "\n",
    "Date: July 16, 2019\n",
    "\n",
    "![example](../visuals/small_multiples_example.png)\n",
    "\n",
    "## Overview\n",
    "\n",
    "Small multiples is a visualization technique that partions your data such that you're visualizing one piece of it at a time. These pieces are stored as series of individual plots (i.e. subplots) that share the same x and y-axes. \n",
    "\n",
    "Having each subplot on the same scale makes it easier for the reader to compare one subplot to the next without having to mentally account for different scales.\n",
    "\n",
    "## Goal\n",
    "\n",
    "For you to be able to create small multiples in python using [`matplotlib`](https://matplotlib.org/3.1.1/gallery/subplots_axes_and_figures/subplots_demo.html).\n",
    "\n",
    "### Inspiration\n",
    "\n",
    "This tutorial was inspired by Yan Holtz's [_Small Multiples for Line Charts_](https://python-graph-gallery.com/125-small-multiples-for-line-chart/) tutorial. \n"
   ]
  },
  {
   "cell_type": "code",
   "execution_count": null,
   "metadata": {},
   "outputs": [],
   "source": [
    "# import necessary libraries\n",
    "import matplotlib.pyplot as plt\n",
    "import numpy as np\n",
    "import pandas as pd"
   ]
  },
  {
   "cell_type": "markdown",
   "metadata": {},
   "source": [
    "Here, each record in `df` represents the average number of commits each team member has over the course of one hackathon. The first record is the average number of commits after the first hour, the second record is the average number of commits after the second hour and so on and so forth."
   ]
  },
  {
   "cell_type": "code",
   "execution_count": null,
   "metadata": {},
   "outputs": [],
   "source": [
    "# create test data\n",
    "df = pd.DataFrame({\"hour\": range(1, 11),\n",
    "                   \"sam\": np.random.randn(10) + np.random.randint(low=4, high=6, size=10),\n",
    "                   \"alex\": np.random.randn(10) + np.random.randint(low=15, high=18, size=10),\n",
    "                   \"blake\": list(range(1, 11))[::-1], \n",
    "                   \"addison\": [2] * 10, \n",
    "                   \"cameron\": np.random.randn(10) + np.random.randint(low=1, high=20, size=10),\n",
    "                   \"jaime\": np.random.randn(10) + np.random.randint(low=1, high=10, size=10), \n",
    "                   \"dakota\": np.random.randn(10) + np.random.randint(low=5, high=6, size=10),\n",
    "                   \"jordan\": np.random.randn(10) + np.random.randint(low=8, high=16, size=10), \n",
    "                   \"kieran\": np.random.randn(10) + np.random.randint(low=9, high=12, size=10)})\n",
    "df.head()"
   ]
  },
  {
   "cell_type": "markdown",
   "metadata": {},
   "source": [
    "Now we'll do some styling before any creation of the figure and subplots. \n",
    "\n",
    "See [here for more information on style sheets](https://matplotlib.org/3.1.1/gallery/style_sheets/style_sheets_reference.html) and [here for information on color maps (i.e. color palettes)](https://matplotlib.org/users/colormaps.html)."
   ]
  },
  {
   "cell_type": "code",
   "execution_count": null,
   "metadata": {},
   "outputs": [],
   "source": [
    "# enforce a specific plot style sheet\n",
    "plt.style.use(\"dark_background\")\n",
    "\n",
    "# create a color palette\n",
    "palette = plt.get_cmap(\"Paired\")"
   ]
  },
  {
   "cell_type": "markdown",
   "metadata": {},
   "source": [
    "#### Creating Small Multiples\n",
    "\n",
    "##### `fig` and `axs`\n",
    "\n",
    "As seen [in the `matplotlib` documentation](https://matplotlib.org/3.1.1/gallery/subplots_axes_and_figures/subplots_demo.html#stacking-subplots-in-two-directions), we want to create a plot figure that contains a 3X3 grid. Each of the 9 subplots will be accessible by indexing the `axs` object. \n",
    "\n",
    "##### Indexing `axs`\n",
    "\n",
    "To access the subplot in the upper left corner, index `axs` by typing `axs[0, 0]`. You read that as \"the subplot in the first row in the first column\". \n",
    "\n",
    "To access the subplot in the bottom right corner, you type `axs[2, 2]`. You read that as \"the subplot in the third row in the third column\".\n",
    "\n",
    "*Always helpful to remember that [Python using zero based indexing](http://python-history.blogspot.com/2013/10/why-python-uses-0-based-indexing.html).*\n",
    "\n",
    "To avoid manually typing each subplot, we'll access each subplot by using two `for` loops: one for `row` and one for `column`. Additionally, we'll add a value of `1` to the `counter` object after each subplot so that we can highlight one teammate in color.\n",
    "\n",
    "##### Adding things to the `fig`\n",
    "\n",
    "Only after the subplots are drawn do we worry about adding elements to `fig`. Here, we'll be creating a title that will be placed in the middle of the figure at the very top. We'll also be adding labels to the x and y-axis. \n",
    "\n",
    "Finally, we'll save the figure as a `PNG` file.\n"
   ]
  },
  {
   "cell_type": "code",
   "execution_count": null,
   "metadata": {},
   "outputs": [],
   "source": [
    "# create a figure and a grid of subplots\n",
    "fig, axs = plt.subplots(nrows=3, ncols=3)\n",
    "\n",
    "# counter will store the feature index to use when highlighting a particular teammate in each subplot\n",
    "counter = 0\n",
    "for row in range(axs.shape[0]):\n",
    "    for col in range(axs.shape[1]):\n",
    "        # plot every feature in each subplot in gray color\n",
    "        for feature in df.drop(\"hour\", axis=1):\n",
    "            axs[row, col].plot(df[\"hour\"],\n",
    "                           df[feature],\n",
    "                           marker=\"\",\n",
    "                           color=\"white\", \n",
    "                           linewidth=0.6,\n",
    "                           alpha=0.3)\n",
    "        # for each subplot, plot only one non-\"hour\" feature - via counter - in color\n",
    "        # note: we are subsetting each subplot via axs[row, col]\n",
    "        axs[row, col].plot(df[\"hour\"],\n",
    "                           df.drop(\"hour\", axis=1).iloc[:, counter],\n",
    "                           marker=\"\",\n",
    "                           color=palette(counter), \n",
    "                           linewidth=2.4,\n",
    "                           alpha=0.9)\n",
    "        # set xlim and ylim for each subplot\n",
    "        axs[row, col].set_xlim(0,10)\n",
    "        axs[row, col].set_ylim(-2,22)\n",
    "        \n",
    "        # remove x-axis tick marks from the first two rows of subplots\n",
    "        if row in [0, 1]:\n",
    "            axs[row, col].tick_params(labelbottom=False)\n",
    "        # remove the y-axis tick marks from the second and third columns of subplots\n",
    "        if col in [1, 2]:\n",
    "            axs[row, col].tick_params(labelleft=False)          \n",
    "\n",
    "        # assign each subplot a title based on the one non-\"hour\" feature that was highlighted in color\n",
    "        axs[row, col].set_title(df.drop(\"hour\", axis=1).iloc[:, counter].name, \n",
    "                                loc=\"left\", \n",
    "                                fontsize=12, \n",
    "                                fontweight=0, \n",
    "                                color=palette(counter))\n",
    "        \n",
    "        # now that we're done with this subplot, add one to counter so the next teammate is highlighted\n",
    "        counter += 1\n",
    "            \n",
    "# assign an overall title\n",
    "fig.suptitle(\"Average number of commits over time by each team member\", \n",
    "             fontsize=13, \n",
    "             fontweight=0,\n",
    "             color=\"white\", \n",
    "             style=\"italic\", \n",
    "             y=1.02)\n",
    " \n",
    "# label axes\n",
    "fig.text(0.5, 0.01, \"Time (in number of hours since start of hackathon)\", ha=\"center\", va=\"center\")\n",
    "fig.text(0.01, 0.5, \"Number of commits\", ha=\"center\", va=\"center\", rotation='vertical')\n",
    "\n",
    "# adjust layout so things aren't so squished\n",
    "fig.tight_layout()\n",
    "\n",
    "# export figure as PNG file\n",
    "fig.savefig(\"../visuals/small_multiples_example.png\",\n",
    "            dpi=200,\n",
    "            bbox_inches = \"tight\")"
   ]
  },
  {
   "cell_type": "code",
   "execution_count": null,
   "metadata": {},
   "outputs": [],
   "source": []
  }
 ],
 "metadata": {
  "kernelspec": {
   "display_name": "Python (learn-env)",
   "language": "python",
   "name": "learn-env"
  },
  "language_info": {
   "codemirror_mode": {
    "name": "ipython",
    "version": 3
   },
   "file_extension": ".py",
   "mimetype": "text/x-python",
   "name": "python",
   "nbconvert_exporter": "python",
   "pygments_lexer": "ipython3",
   "version": "3.6.6"
  }
 },
 "nbformat": 4,
 "nbformat_minor": 2
}
