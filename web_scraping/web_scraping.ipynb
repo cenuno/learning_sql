{
 "cells": [
  {
   "cell_type": "markdown",
   "metadata": {},
   "source": [
    "# Web Scraping MLB Data Using Selenium + Storing it in a MongoDB\n",
    "\n",
    "Date: July 17, 2019\n",
    "\n",
    "Made by: Cristian E. Nuno\n",
    "\n",
    "## Overview\n",
    "\n",
    "Web scraping is used for retrieving data from the Internet. This tutorial will show you how to web scrape [hitting statistics](http://mlb.mlb.com/stats/sortable.jsp#elem=%5Bobject+Object%5D&tab_level=child&click_text=Sortable+Player+hitting&game_type='R'&season=2019&season_type=ANY&league_code='MLB'&sectionType=sp&statType=hitting&page=1&ts=1563409038614&sortColumn=avg&sortOrder='desc'&extended=0) for MLB baseball players for the current 2019 season. It will also walk you through on using `MongoDB` to store your data from the internet into your local machine.\n",
    "\n",
    "*Note: this tutorial draws heavily on [Kena Jaladora's work](https://github.com/kenajalodara/webscraping_players/blob/master/WebScraping_Player.ipynb)*"
   ]
  },
  {
   "cell_type": "markdown",
   "metadata": {},
   "source": [
    "## Load necessary libraries"
   ]
  },
  {
   "cell_type": "code",
   "execution_count": 1,
   "metadata": {},
   "outputs": [],
   "source": [
    "# load necessary libraries and modules\n",
    "from selenium.webdriver import Chrome\n",
    "import time\n",
    "import requests\n",
    "import pandas as pd\n",
    "from typing import List\n",
    "import json\n",
    "from pymongo import MongoClient\n",
    "from datetime import datetime"
   ]
  },
  {
   "cell_type": "markdown",
   "metadata": {},
   "source": [
    "## Brief introduction into web browser automation\n",
    "\n",
    "There are tools to help you extract content available on the web, specifically so that you do not have to spend time manually clicking or scrolling on the web yourself. [Selenium](https://www.seleniumhq.org/) is a suite of tools to automate web browsers across many platforms. \n",
    "\n",
    "> Selenium is a great tool that allows developers to *simulate* end-users with only a few lines of code. Some of the most popular tasks accomplished with Selenium include, but are not limited to:\n",
    "> * Clicking buttons\n",
    "> * Inputting text\n",
    "> * Extracting text\n",
    "> * Accessing Cookies\n",
    "> * Pressing keys\n",
    ">\n",
    "> source: [Getting Started with Selenium and Python](https://stackabuse.com/getting-started-with-selenium-and-python/) by Ely Shaffir"
   ]
  },
  {
   "cell_type": "markdown",
   "metadata": {},
   "source": [
    "### Custom `SuperChrome` class to help shorten the module name when selecting CSS elements\n",
    "\n",
    "Below, `SuperChrome` is a custom class created to abbreviate the `find_elements_by_css_select()` method inside of the `Chrome` class. "
   ]
  },
  {
   "cell_type": "code",
   "execution_count": 2,
   "metadata": {},
   "outputs": [],
   "source": [
    "class SuperChrome(Chrome):\n",
    "    \"\"\"References find_elements)by_css_selector in fewer words\"\"\"\n",
    "    def select(self, *args, **kwargs):\n",
    "        return self.find_elements_by_css_selector(*args, **kwargs)\n",
    "    def select_one(self, *args, **kwargs):\n",
    "        return self.find_element_by_css_selector(*args, **kwargs)\n",
    "    "
   ]
  },
  {
   "cell_type": "markdown",
   "metadata": {},
   "source": [
    "### Brief introduction to `MongoDB`\n",
    "\n",
    "[MongoDB](https://www.mongodb.com/) is a general purpose, document-based, distributed database built for modern application developers and for the cloud era. [MongoDB stores data](https://www.mongodb.com/what-is-mongodb) in flexible, JSON-like documents, meaning fields can vary from document to document and data structure can be changed over time.\n",
    "\n",
    "We'll store our extracted data into a database inside MongoDB. Once you've connected to a client-side representation of your local MongoDB server, you can create a new database by subsetting `client` with a string that represents the name of your newly created db.\n",
    "\n",
    "In this case, we're creating a new database named `mlb`."
   ]
  },
  {
   "cell_type": "code",
   "execution_count": 3,
   "metadata": {},
   "outputs": [],
   "source": [
    "client = MongoClient()\n",
    "db = client[\"mlb\"]"
   ]
  },
  {
   "cell_type": "markdown",
   "metadata": {},
   "source": [
    "Since MongoDB is not a relational database management system, the `mlb` database does not hold tables like PostgreSQL. Instead, [collections](https://docs.mongodb.com/manual/core/databases-and-collections/) are what MongoDB calls tables. Collections are analogous to tables in relational databases."
   ]
  },
  {
   "cell_type": "code",
   "execution_count": 4,
   "metadata": {},
   "outputs": [],
   "source": [
    "hitters = db[\"hitters\"]"
   ]
  },
  {
   "cell_type": "markdown",
   "metadata": {},
   "source": [
    "### Open a web brower"
   ]
  },
  {
   "cell_type": "code",
   "execution_count": 5,
   "metadata": {},
   "outputs": [],
   "source": [
    "# open a chrome window with our custom class\n",
    "browser = SuperChrome()"
   ]
  },
  {
   "cell_type": "markdown",
   "metadata": {},
   "source": [
    "### Scraping the backend JSON that feeds into the HMTL table\n",
    "\n",
    "The MLB hitting statistics live [on this web page](http://mlb.mlb.com/stats/sortable.jsp#elem=%5Bobject+Object%5D&tab_level=child&click_text=Sortable+Player+hitting&game_type='R'&season=2019&season_type=ANY&league_code='MLB'&sectionType=sp&statType=hitting&page=1&ts=1564445154674&sortColumn=avg&sortOrder='desc'&extended=0). This web page that stores MLB hitting statistics for the current season. The data stored here is not static: every day it gets updated to take into account the players statistics after today's game.\n",
    "\n",
    "The function `fetch_mlb_data_page()` shows how to extract the JSON data that is being displayed on the HTML tables on a particular response page. It adds two features to each record:\n",
    "\n",
    "* `created_timestamp`: the datetime MLB uploaded the data; and\n",
    "* `fetched_timestamp`: the datetime the data was scraped by us."
   ]
  },
  {
   "cell_type": "code",
   "execution_count": 6,
   "metadata": {},
   "outputs": [],
   "source": [
    "def fetch_mlb_data_page(browser, page_num):\n",
    "    \"\"\"Get MLB data from each page\"\"\"\n",
    "    json_url = f\"http://mlb.mlb.com/pubajax/wf/flow/stats.splayer?season=2019&sort_order=%27desc%27&sort_column=%27avg%27&stat_type=hitting&page_type=SortablePlayer&game_type=%27R%27&player_pool=QUALIFIER&season_type=ANY&sport_code=%27mlb%27&results=1000&recSP={page_num}&recPP=50\"\n",
    "    browser.get(json_url)\n",
    "    current_dt = datetime.today().strftime(\"%Y-%m-%d %H:%M:%S\")\n",
    "    # always sleep after getting data\n",
    "    time.sleep(14)\n",
    "    json_text = browser.select_one(\"body\").text\n",
    "    results = json.loads(json_text)\n",
    "    rows = results[\"stats_sortable_player\"][\"queryResults\"][\"row\"]\n",
    "    for player in rows:\n",
    "        player[\"created_timestamp\"] = results[\"stats_sortable_player\"][\"queryResults\"][\"created\"]\n",
    "        player[\"fetched_timestamp\"] = current_dt\n",
    "    n_pages = results[\"stats_sortable_player\"][\"queryResults\"][\"totalP\"]\n",
    "    n_rows = results[\"stats_sortable_player\"][\"queryResults\"][\"totalSize\"]\n",
    "    return {\"rows\": rows, \"n_pages\": int(n_pages), \"n_rows\": int(n_rows)}"
   ]
  },
  {
   "cell_type": "markdown",
   "metadata": {},
   "source": [
    "By default, MLB limits the number of records its HMTL table displays in 50 increments. To view the next 50 players, the `fetch_mlb_data()` function will update the url that retrieves the JSON such that it moves onto the next page until the last page is scraped."
   ]
  },
  {
   "cell_type": "code",
   "execution_count": 7,
   "metadata": {},
   "outputs": [],
   "source": [
    "def fetch_mlb_data(browser, page_limit=3, page_num=1):\n",
    "    \"\"\"Retrieve data from MLB Stats\"\"\"\n",
    "    while page_num <= page_limit:\n",
    "        result = fetch_mlb_data_page(browser, page_num)\n",
    "        n_pages = result[\"n_pages\"]\n",
    "        rows = result[\"rows\"]\n",
    "        if page_limit > n_pages:\n",
    "            page_limit = n_pages\n",
    "        print(f\"Insert page {page_num} into the hitters collection inside the mlb MongoDB\")\n",
    "        hitters.insert_many(rows)\n",
    "        page_num += 1"
   ]
  },
  {
   "cell_type": "code",
   "execution_count": 8,
   "metadata": {},
   "outputs": [
    {
     "name": "stdout",
     "output_type": "stream",
     "text": [
      "Insert page 1 into the hitters collection inside the mlb MongoDB\n",
      "Insert page 2 into the hitters collection inside the mlb MongoDB\n",
      "Insert page 3 into the hitters collection inside the mlb MongoDB\n"
     ]
    }
   ],
   "source": [
    "fetch_mlb_data(browser)"
   ]
  },
  {
   "cell_type": "markdown",
   "metadata": {},
   "source": [
    "### Import data from MongoDB and cast as a DataFrame"
   ]
  },
  {
   "cell_type": "code",
   "execution_count": 9,
   "metadata": {},
   "outputs": [
    {
     "data": {
      "text/html": [
       "<div>\n",
       "<style scoped>\n",
       "    .dataframe tbody tr th:only-of-type {\n",
       "        vertical-align: middle;\n",
       "    }\n",
       "\n",
       "    .dataframe tbody tr th {\n",
       "        vertical-align: top;\n",
       "    }\n",
       "\n",
       "    .dataframe thead th {\n",
       "        text-align: right;\n",
       "    }\n",
       "</style>\n",
       "<table border=\"1\" class=\"dataframe\">\n",
       "  <thead>\n",
       "    <tr style=\"text-align: right;\">\n",
       "      <th></th>\n",
       "      <th>_id</th>\n",
       "      <th>ab</th>\n",
       "      <th>ao</th>\n",
       "      <th>avg</th>\n",
       "      <th>bats</th>\n",
       "      <th>bb</th>\n",
       "      <th>created_timestamp</th>\n",
       "      <th>cs</th>\n",
       "      <th>d</th>\n",
       "      <th>fetched_timestamp</th>\n",
       "      <th>...</th>\n",
       "      <th>sport_id</th>\n",
       "      <th>t</th>\n",
       "      <th>tb</th>\n",
       "      <th>team</th>\n",
       "      <th>team_abbrev</th>\n",
       "      <th>team_brief</th>\n",
       "      <th>team_id</th>\n",
       "      <th>team_name</th>\n",
       "      <th>tpa</th>\n",
       "      <th>xbh</th>\n",
       "    </tr>\n",
       "  </thead>\n",
       "  <tbody>\n",
       "    <tr>\n",
       "      <th>0</th>\n",
       "      <td>5d3f953c9e58457f18986756</td>\n",
       "      <td>365</td>\n",
       "      <td>80</td>\n",
       "      <td>.337</td>\n",
       "      <td>L</td>\n",
       "      <td>59</td>\n",
       "      <td>2019-07-30T00:04:32</td>\n",
       "      <td>2</td>\n",
       "      <td>21</td>\n",
       "      <td>2019-07-29 17:54:06</td>\n",
       "      <td>...</td>\n",
       "      <td>1</td>\n",
       "      <td>3</td>\n",
       "      <td>258</td>\n",
       "      <td>mil</td>\n",
       "      <td>MIL</td>\n",
       "      <td>Brewers</td>\n",
       "      <td>158</td>\n",
       "      <td>Milwaukee Brewers</td>\n",
       "      <td>433</td>\n",
       "      <td>60</td>\n",
       "    </tr>\n",
       "    <tr>\n",
       "      <th>1</th>\n",
       "      <td>5d3f953c9e58457f18986757</td>\n",
       "      <td>345</td>\n",
       "      <td>97</td>\n",
       "      <td>.336</td>\n",
       "      <td>L</td>\n",
       "      <td>20</td>\n",
       "      <td>2019-07-30T00:04:32</td>\n",
       "      <td>5</td>\n",
       "      <td>27</td>\n",
       "      <td>2019-07-29 17:54:06</td>\n",
       "      <td>...</td>\n",
       "      <td>1</td>\n",
       "      <td>1</td>\n",
       "      <td>175</td>\n",
       "      <td>nyn</td>\n",
       "      <td>NYM</td>\n",
       "      <td>Mets</td>\n",
       "      <td>121</td>\n",
       "      <td>New York Mets</td>\n",
       "      <td>380</td>\n",
       "      <td>38</td>\n",
       "    </tr>\n",
       "    <tr>\n",
       "      <th>2</th>\n",
       "      <td>5d3f953c9e58457f18986758</td>\n",
       "      <td>391</td>\n",
       "      <td>91</td>\n",
       "      <td>.332</td>\n",
       "      <td>R</td>\n",
       "      <td>31</td>\n",
       "      <td>2019-07-30T00:04:32</td>\n",
       "      <td>2</td>\n",
       "      <td>23</td>\n",
       "      <td>2019-07-29 17:54:06</td>\n",
       "      <td>...</td>\n",
       "      <td>1</td>\n",
       "      <td>2</td>\n",
       "      <td>202</td>\n",
       "      <td>nya</td>\n",
       "      <td>NYY</td>\n",
       "      <td>Yankees</td>\n",
       "      <td>147</td>\n",
       "      <td>New York Yankees</td>\n",
       "      <td>428</td>\n",
       "      <td>40</td>\n",
       "    </tr>\n",
       "    <tr>\n",
       "      <th>3</th>\n",
       "      <td>5d3f953c9e58457f18986759</td>\n",
       "      <td>420</td>\n",
       "      <td>100</td>\n",
       "      <td>.329</td>\n",
       "      <td>L</td>\n",
       "      <td>34</td>\n",
       "      <td>2019-07-30T00:04:32</td>\n",
       "      <td>6</td>\n",
       "      <td>36</td>\n",
       "      <td>2019-07-29 17:54:06</td>\n",
       "      <td>...</td>\n",
       "      <td>1</td>\n",
       "      <td>3</td>\n",
       "      <td>243</td>\n",
       "      <td>bos</td>\n",
       "      <td>BOS</td>\n",
       "      <td>Red Sox</td>\n",
       "      <td>111</td>\n",
       "      <td>Boston Red Sox</td>\n",
       "      <td>458</td>\n",
       "      <td>60</td>\n",
       "    </tr>\n",
       "    <tr>\n",
       "      <th>4</th>\n",
       "      <td>5d3f953c9e58457f1898675a</td>\n",
       "      <td>367</td>\n",
       "      <td>123</td>\n",
       "      <td>.327</td>\n",
       "      <td>L</td>\n",
       "      <td>65</td>\n",
       "      <td>2019-07-30T00:04:32</td>\n",
       "      <td>5</td>\n",
       "      <td>20</td>\n",
       "      <td>2019-07-29 17:54:06</td>\n",
       "      <td>...</td>\n",
       "      <td>1</td>\n",
       "      <td>2</td>\n",
       "      <td>246</td>\n",
       "      <td>lan</td>\n",
       "      <td>LAD</td>\n",
       "      <td>Dodgers</td>\n",
       "      <td>119</td>\n",
       "      <td>Los Angeles Dodgers</td>\n",
       "      <td>440</td>\n",
       "      <td>56</td>\n",
       "    </tr>\n",
       "  </tbody>\n",
       "</table>\n",
       "<p>5 rows × 55 columns</p>\n",
       "</div>"
      ],
      "text/plain": [
       "                        _id   ab   ao   avg bats  bb    created_timestamp cs  \\\n",
       "0  5d3f953c9e58457f18986756  365   80  .337    L  59  2019-07-30T00:04:32  2   \n",
       "1  5d3f953c9e58457f18986757  345   97  .336    L  20  2019-07-30T00:04:32  5   \n",
       "2  5d3f953c9e58457f18986758  391   91  .332    R  31  2019-07-30T00:04:32  2   \n",
       "3  5d3f953c9e58457f18986759  420  100  .329    L  34  2019-07-30T00:04:32  6   \n",
       "4  5d3f953c9e58457f1898675a  367  123  .327    L  65  2019-07-30T00:04:32  5   \n",
       "\n",
       "    d    fetched_timestamp ... sport_id  t   tb team team_abbrev team_brief  \\\n",
       "0  21  2019-07-29 17:54:06 ...        1  3  258  mil         MIL    Brewers   \n",
       "1  27  2019-07-29 17:54:06 ...        1  1  175  nyn         NYM       Mets   \n",
       "2  23  2019-07-29 17:54:06 ...        1  2  202  nya         NYY    Yankees   \n",
       "3  36  2019-07-29 17:54:06 ...        1  3  243  bos         BOS    Red Sox   \n",
       "4  20  2019-07-29 17:54:06 ...        1  2  246  lan         LAD    Dodgers   \n",
       "\n",
       "  team_id            team_name  tpa xbh  \n",
       "0     158    Milwaukee Brewers  433  60  \n",
       "1     121        New York Mets  380  38  \n",
       "2     147     New York Yankees  428  40  \n",
       "3     111       Boston Red Sox  458  60  \n",
       "4     119  Los Angeles Dodgers  440  56  \n",
       "\n",
       "[5 rows x 55 columns]"
      ]
     },
     "execution_count": 9,
     "metadata": {},
     "output_type": "execute_result"
    }
   ],
   "source": [
    "hitters_df = pd.DataFrame(list(hitters.find()))\n",
    "hitters_df.head()"
   ]
  },
  {
   "cell_type": "code",
   "execution_count": 10,
   "metadata": {},
   "outputs": [
    {
     "data": {
      "text/plain": [
       "(150, 55)"
      ]
     },
     "execution_count": 10,
     "metadata": {},
     "output_type": "execute_result"
    }
   ],
   "source": [
    "hitters_df.shape"
   ]
  }
 ],
 "metadata": {
  "kernelspec": {
   "display_name": "Python (learn-env)",
   "language": "python",
   "name": "learn-env"
  },
  "language_info": {
   "codemirror_mode": {
    "name": "ipython",
    "version": 3
   },
   "file_extension": ".py",
   "mimetype": "text/x-python",
   "name": "python",
   "nbconvert_exporter": "python",
   "pygments_lexer": "ipython3",
   "version": "3.6.6"
  }
 },
 "nbformat": 4,
 "nbformat_minor": 2
}
